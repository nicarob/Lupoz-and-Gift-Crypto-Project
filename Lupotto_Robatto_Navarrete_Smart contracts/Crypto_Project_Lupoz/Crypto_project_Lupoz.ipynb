{
 "cells": [
  {
   "cell_type": "markdown",
   "metadata": {},
   "source": [
    "if needed, install the following library"
   ]
  },
  {
   "cell_type": "code",
   "execution_count": null,
   "metadata": {},
   "outputs": [],
   "source": [
    "#!pip install py-algorand-sdk"
   ]
  },
  {
   "cell_type": "code",
   "execution_count": 1,
   "metadata": {},
   "outputs": [],
   "source": [
    "import os, json, algosdk\n",
    "from algosdk import account, mnemonic"
   ]
  },
  {
   "cell_type": "markdown",
   "metadata": {},
   "source": [
    "## Create an Algorand account"
   ]
  },
  {
   "cell_type": "markdown",
   "metadata": {},
   "source": [
    "Create a function to generate each account"
   ]
  },
  {
   "cell_type": "code",
   "execution_count": 2,
   "metadata": {},
   "outputs": [],
   "source": [
    "\n",
    "def generate_account_dict():\n",
    "    private_key = account.generate_account()[0]    # need [0], because generate_account() returns a list\n",
    "    acc = {}\n",
    "    acc['public'] = account.address_from_private_key(private_key)\n",
    "    acc['private'] = private_key\n",
    "    acc['mnemonic'] = mnemonic.from_private_key(private_key)\n",
    "    return acc"
   ]
  },
  {
   "cell_type": "markdown",
   "metadata": {},
   "source": [
    "Create an account for each user"
   ]
  },
  {
   "cell_type": "code",
   "execution_count": 3,
   "metadata": {},
   "outputs": [],
   "source": [
    "\n",
    "Alfa = generate_account_dict()\n",
    "Bravo   = generate_account_dict()\n",
    "Charlie = generate_account_dict()"
   ]
  },
  {
   "cell_type": "markdown",
   "metadata": {},
   "source": [
    "### Create the file structure\n",
    "\n",
    "This is the first step to store your credentials\n",
    "\n",
    "**WARNING**: \n",
    "Do NOT insert your credentials here, nor EVER print your private key or mnemonic in any jupyter notebook. Insert your credentials directly into the credentials file"
   ]
  },
  {
   "cell_type": "code",
   "execution_count": 4,
   "metadata": {},
   "outputs": [],
   "source": [
    "\n",
    "cred = {'algod_test' : 'https://testnet-api.algonode.cloud',\n",
    "        'algod_main' : 'https://mainnet-api.algonode.cloud',\n",
    "        'index_test' : 'https://testnet-idx.algonode.cloud',\n",
    "        'index_main' : 'https://mainnet-idx.algonode.cloud',\n",
    "        'explore_main' : 'https://explorer.perawallet.app/',\n",
    "        'explore_test' : 'https://testnet.explorer.perawallet.app/',\n",
    "        'api_token'  : '',\n",
    "        'pinata_jwt' : 'your pinata json web token here',\n",
    "        'pinata_secret' : 'your pinata API secret here',\n",
    "        'MyAlgo' : {'public' : '', 'private' : '', 'mnemonic' : 'your mnemonic here'}\n",
    "        }\n",
    "cred['Alfa'] = Alfa\n",
    "cred['Bravo'] = Bravo\n",
    "cred['Charlie'] = Charlie"
   ]
  },
  {
   "cell_type": "markdown",
   "metadata": {},
   "source": [
    "Run the next cell to save the credentials to a file called credentials_temp. This will be created in the same directory as this notebook."
   ]
  },
  {
   "cell_type": "code",
   "execution_count": 5,
   "metadata": {},
   "outputs": [],
   "source": [
    "cred_json = json.dumps(cred,indent=4)\n",
    "\n",
    "filename = 'credentials_temp'                   # op.path is needed to run on Win,Mac and Linux\n",
    "with open(filename, 'w') as outfile:            # option 'w' ensures overwriting of existing file if it exists\n",
    "    outfile.write(cred_json)"
   ]
  },
  {
   "cell_type": "markdown",
   "metadata": {},
   "source": [
    "⚠️ **Before running the next cell, insert the mnemonic of your Algorand account into the credentials_temp file**\n",
    "\n",
    "The mnemonic is needed to generate the private and public key for the MyAlgo account we will create in this next cell."
   ]
  },
  {
   "cell_type": "code",
   "execution_count": 6,
   "metadata": {},
   "outputs": [],
   "source": [
    "# read credentials file and saves them into the cred dictionary\n",
    "with open(filename) as json_file:\n",
    "    cred = json.load(json_file)\n",
    "\n",
    "# calculate private and public key and save them in the cred dictionary under the correct key\n",
    "cred['MyAlgo']['private'] = algosdk.mnemonic.to_private_key(cred['MyAlgo']['mnemonic'])\n",
    "cred['MyAlgo']['public'] = account.address_from_private_key(cred['MyAlgo']['private'])\n",
    "\n",
    "# write again the cred dictionary into the credentials file to store them\n",
    "cred_json = json.dumps(cred,indent=4)                                    \n",
    "with open(filename, 'w') as outfile:            # option 'w' ensures overwriting of existing file\n",
    "    outfile.write(cred_json)"
   ]
  },
  {
   "cell_type": "markdown",
   "metadata": {},
   "source": [
    "Before running the next cells, go to the appropriate folder and change the name of the file from `credentials_temp` to `credentials`."
   ]
  },
  {
   "cell_type": "markdown",
   "metadata": {},
   "source": [
    "Now we read the credentials from the file we just finalized."
   ]
  },
  {
   "cell_type": "code",
   "execution_count": 7,
   "metadata": {},
   "outputs": [],
   "source": [
    "import os, json\n",
    "\n",
    "filename = 'credentials'\n",
    "with open(filename) as json_file:\n",
    "    cred = json.load(json_file)"
   ]
  },
  {
   "cell_type": "markdown",
   "metadata": {},
   "source": [
    "Let's check if everything went well"
   ]
  },
  {
   "cell_type": "code",
   "execution_count": 8,
   "metadata": {},
   "outputs": [
    {
     "name": "stdout",
     "output_type": "stream",
     "text": [
      "B33ZV6UPJZXHBWWM65Y3ZWP4YGB7GLM2PR6WPMH3D6G674DWGDHYJXZIFE\n",
      "https://explorer.perawallet.app/\n"
     ]
    }
   ],
   "source": [
    "# print Alfa public credentials\n",
    "print(cred['Alfa']['public'])"
   ]
  },
  {
   "cell_type": "code",
   "execution_count": 9,
   "metadata": {},
   "outputs": [
    {
     "name": "stdout",
     "output_type": "stream",
     "text": [
      "ZEJV4X7XBW4FB55ZETC5XBJ7OV5IF3ZAX25IQRA7T5J5XM3II76JGAGJ7E\n"
     ]
    }
   ],
   "source": [
    "# print Bravo public credentials\n",
    "print(cred['Bravo']['public'])"
   ]
  },
  {
   "cell_type": "markdown",
   "metadata": {},
   "source": [
    "Let's first load a package of functions we will need to work with the Algorand Blockchain. This file was downloaded together with this notebook from https://github.com/nicarob/Lupoz-and-Gift-Crypto-Project. Don't move any files after the download of the whole folder, or it will not work."
   ]
  },
  {
   "cell_type": "code",
   "execution_count": 10,
   "metadata": {},
   "outputs": [],
   "source": [
    "# Loading the sharedCode functions\n",
    "import sys, os\n",
    "codepath = 'sharedCode'\n",
    "sys.path.append(codepath)   # this adds the sharedCode folder to the list of folders where Python looks for modules\n",
    "from algo_util import *     # this imports all functions from the sharedCode folder\n"
   ]
  },
  {
   "cell_type": "markdown",
   "metadata": {},
   "source": [
    "Now let's load the credentials for each account"
   ]
  },
  {
   "cell_type": "code",
   "execution_count": 11,
   "metadata": {},
   "outputs": [],
   "source": [
    "cred = load_credentials()\n",
    "MyAlgo  = cred['MyAlgo']\n",
    "Alfa    = cred['Alfa']\n",
    "Bravo   = cred['Bravo']\n",
    "Charlie = cred['Charlie']"
   ]
  },
  {
   "cell_type": "markdown",
   "metadata": {},
   "source": [
    "Now let's import the relevant modules we will need in the next steps. We should already have 'algosdk' installed, if you don't have it yet, you can run the installation from the top of this notebook."
   ]
  },
  {
   "cell_type": "code",
   "execution_count": 12,
   "metadata": {},
   "outputs": [],
   "source": [
    "from algosdk import account, mnemonic\n",
    "from algosdk.v2client import algod\n",
    "from algosdk.transaction import PaymentTxn\n",
    "from algosdk.transaction import AssetConfigTxn, AssetTransferTxn, AssetFreezeTxn\n",
    "import algosdk.error\n",
    "import json"
   ]
  },
  {
   "cell_type": "markdown",
   "metadata": {},
   "source": [
    "**Initialize the algod client (Mainnet)**"
   ]
  },
  {
   "cell_type": "code",
   "execution_count": 13,
   "metadata": {},
   "outputs": [
    {
     "data": {
      "text/plain": [
       "39977057"
      ]
     },
     "execution_count": 13,
     "metadata": {},
     "output_type": "execute_result"
    }
   ],
   "source": [
    "# define some parameters needed to initialize the AlgodClient\n",
    "algod_token   = ''                        \n",
    "algod_address = cred['algod_main']        \n",
    "api_token = cred['api_token']             \n",
    "\n",
    "# Initialize the algod client\n",
    "algod_client = algod.AlgodClient(algod_token=algod_token, algod_address=algod_address, headers=api_token)\n",
    "\n",
    "# check last round to see if everything went well\n",
    "algod_client.status()['last-round']"
   ]
  },
  {
   "cell_type": "markdown",
   "metadata": {},
   "source": [
    "You can check if the transactions we will perform later are going correctly at the following links:"
   ]
  },
  {
   "cell_type": "code",
   "execution_count": 14,
   "metadata": {},
   "outputs": [
    {
     "name": "stdout",
     "output_type": "stream",
     "text": [
      "https://explorer.perawallet.app/address/4MDVXHXTQIR7SXGGF62DPXUXSOLUEAFY75F6MHX35GV2X5NKIE2H53VISY\n"
     ]
    }
   ],
   "source": [
    "# Create a link to directly access your MyAlgo account\n",
    "print(cred['explore_main']+'address/'+MyAlgo['public'])"
   ]
  },
  {
   "cell_type": "code",
   "execution_count": 15,
   "metadata": {},
   "outputs": [
    {
     "name": "stdout",
     "output_type": "stream",
     "text": [
      "https://explorer.perawallet.app/address/B33ZV6UPJZXHBWWM65Y3ZWP4YGB7GLM2PR6WPMH3D6G674DWGDHYJXZIFE\n"
     ]
    }
   ],
   "source": [
    "# Create a link to directly access your Alfa account\n",
    "print(cred['explore_main']+'address/'+Alfa['public'])"
   ]
  },
  {
   "cell_type": "code",
   "execution_count": 16,
   "metadata": {},
   "outputs": [
    {
     "name": "stdout",
     "output_type": "stream",
     "text": [
      "https://explorer.perawallet.app/address/ZEJV4X7XBW4FB55ZETC5XBJ7OV5IF3ZAX25IQRA7T5J5XM3II76JGAGJ7E\n"
     ]
    }
   ],
   "source": [
    "# Create a link to directly access your Bravo account\n",
    "print(cred['explore_main']+'address/'+Bravo['public'])"
   ]
  },
  {
   "cell_type": "code",
   "execution_count": 17,
   "metadata": {},
   "outputs": [
    {
     "name": "stdout",
     "output_type": "stream",
     "text": [
      "https://explorer.perawallet.app/address/SDDSAGSVMRK7FM5BFGUA7EHILEK3UQTDUBRJNZBZ3CJ6MDOKT6QB2BEVEY\n"
     ]
    }
   ],
   "source": [
    "# Create a link to directly access your Charlie account\n",
    "print(cred['explore_main']+'address/'+Charlie['public'])"
   ]
  },
  {
   "cell_type": "markdown",
   "metadata": {},
   "source": [
    "## Create an ASA = Algorand Standard Asset - Lupoz\n",
    "\n",
    "* Each Lupoz has 6 decimals\n",
    "    * Hence, our token can be divided into units as small as $\\frac{1}{10^6} = \\frac{1}{1000000} = 0.000001$\n",
    "* To create 1000 tokens, we must create $1000 \\cdot 10^6$ *microLupoz*"
   ]
  },
  {
   "cell_type": "code",
   "execution_count": 67,
   "metadata": {},
   "outputs": [
    {
     "name": "stdout",
     "output_type": "stream",
     "text": [
      "1000000000\n"
     ]
    }
   ],
   "source": [
    "# Let's define the variables needed to create the new asset\n",
    "\n",
    "sp = algod_client.suggested_params()\n",
    "token_supply = 1000                              # Token supply (big units)\n",
    "token_decimals =  6                              # Digits after the comma\n",
    "token_total = token_supply * 10**token_decimals  # Specify number of SMALLER unit (\"microLupoz\")\n",
    "print(token_total)\n",
    "\n",
    "token_name  = \"Lupoz\"                         \n",
    "token_url   = \"https://github.com/nicarob/Lupoz-and-Gift-Crypto-Project\"                   \n",
    "token_unit  = \"LUP\"                              "
   ]
  },
  {
   "cell_type": "markdown",
   "metadata": {},
   "source": [
    "During creation, we need to assign the following roles, which we will use later ...\n",
    "\n",
    "* **Manager:** can change the the follwoing roles and can destroy the asset\n",
    "* **Reserve:** where not yet distributed assets reside (informational)\n",
    "* **Freeze:** can freeze assets (e.g. to wait for KYC)\n",
    "* **Clawback:** can undo transactions\n",
    "\n",
    "See https://developer.algorand.org/docs/features/asa/ "
   ]
  },
  {
   "cell_type": "code",
   "execution_count": 68,
   "metadata": {},
   "outputs": [
    {
     "name": "stdout",
     "output_type": "stream",
     "text": [
      "{'sender': '4MDVXHXTQIR7SXGGF62DPXUXSOLUEAFY75F6MHX35GV2X5NKIE2H53VISY', 'fee': 1000, 'first_valid_round': 39978275, 'last_valid_round': 39979275, 'note': None, 'genesis_id': 'mainnet-v1.0', 'genesis_hash': 'wGHE2Pwdvd7S12BL5FaOP20EGYesN73ktiC1qzkkit8=', 'group': None, 'lease': None, 'type': 'acfg', 'rekey_to': None, 'index': 0, 'total': 1000000000, 'default_frozen': False, 'unit_name': 'LUP', 'asset_name': 'Lupoz', 'manager': '4MDVXHXTQIR7SXGGF62DPXUXSOLUEAFY75F6MHX35GV2X5NKIE2H53VISY', 'reserve': '4MDVXHXTQIR7SXGGF62DPXUXSOLUEAFY75F6MHX35GV2X5NKIE2H53VISY', 'freeze': '4MDVXHXTQIR7SXGGF62DPXUXSOLUEAFY75F6MHX35GV2X5NKIE2H53VISY', 'clawback': '4MDVXHXTQIR7SXGGF62DPXUXSOLUEAFY75F6MHX35GV2X5NKIE2H53VISY', 'url': 'https://github.com/nicarob/Lupoz-and-Gift-Crypto-Project', 'metadata_hash': None, 'decimals': 6}\n"
     ]
    }
   ],
   "source": [
    "txn = AssetConfigTxn(\n",
    "    sender=MyAlgo['public'],                   # Creator of the ASA\n",
    "    sp=sp,                      \n",
    "    total=token_total,                         # Total supply in SMALL unit\n",
    "    decimals=token_decimals,                   # Decimals\n",
    "    default_frozen=False,                      # Tokens are not frozen by default\n",
    "    unit_name=token_unit,                      # Abbreviation     \n",
    "    asset_name=token_name,                     # Name\n",
    "    url=token_url,                             # URL\n",
    "    manager=MyAlgo['public'],             \n",
    "    reserve=MyAlgo['public'],                \n",
    "    freeze=MyAlgo['public'],                 \n",
    "    clawback=MyAlgo['public']               \n",
    ")\n",
    "print(txn)"
   ]
  },
  {
   "cell_type": "markdown",
   "metadata": {},
   "source": [
    "Sign and send the transaction"
   ]
  },
  {
   "cell_type": "code",
   "execution_count": 69,
   "metadata": {},
   "outputs": [
    {
     "name": "stdout",
     "output_type": "stream",
     "text": [
      "7GNVD345BCXOREPKKP3KT4L2NDYVU6GJKLAGGCMCH3V3OJ7FJPXA\n"
     ]
    }
   ],
   "source": [
    "stxn = txn.sign(MyAlgo['private'])             # Sign\n",
    "txid = algod_client.send_transaction(stxn)     # Send\n",
    "print(txid)\n"
   ]
  },
  {
   "cell_type": "markdown",
   "metadata": {},
   "source": [
    "Wait for the transaction to be confirmed"
   ]
  },
  {
   "cell_type": "code",
   "execution_count": 70,
   "metadata": {},
   "outputs": [
    {
     "name": "stdout",
     "output_type": "stream",
     "text": [
      "Current round is  39978276.\n",
      "Waiting for round 39978276 to finish.\n",
      "Waiting for round 39978277 to finish.\n",
      "Transaction 7GNVD345BCXOREPKKP3KT4L2NDYVU6GJKLAGGCMCH3V3OJ7FJPXA confirmed in round 39978278.\n"
     ]
    }
   ],
   "source": [
    "txinfo = wait_for_confirmation(algod_client,txid)"
   ]
  },
  {
   "cell_type": "markdown",
   "metadata": {},
   "source": [
    "Get the asset index and information to check if everything is fine"
   ]
  },
  {
   "cell_type": "code",
   "execution_count": 71,
   "metadata": {},
   "outputs": [
    {
     "name": "stdout",
     "output_type": "stream",
     "text": [
      "{'asset-index': 2039533297, 'confirmed-round': 39978278, 'pool-error': '', 'txn': {'sig': 'psUwwLvwkLmsonuSDbQkGJULAY6w7uyfe009aEkkLa1OdNNh7VYK3Iq5yIOL8SInwRKvu1lCXY0GPb9eG8dpAw==', 'txn': {'apar': {'an': 'Lupoz', 'au': 'https://github.com/nicarob/Lupoz-and-Gift-Crypto-Project', 'c': '4MDVXHXTQIR7SXGGF62DPXUXSOLUEAFY75F6MHX35GV2X5NKIE2H53VISY', 'dc': 6, 'f': '4MDVXHXTQIR7SXGGF62DPXUXSOLUEAFY75F6MHX35GV2X5NKIE2H53VISY', 'm': '4MDVXHXTQIR7SXGGF62DPXUXSOLUEAFY75F6MHX35GV2X5NKIE2H53VISY', 'r': '4MDVXHXTQIR7SXGGF62DPXUXSOLUEAFY75F6MHX35GV2X5NKIE2H53VISY', 't': 1000000000, 'un': 'LUP'}, 'fee': 1000, 'fv': 39978275, 'gen': 'mainnet-v1.0', 'gh': 'wGHE2Pwdvd7S12BL5FaOP20EGYesN73ktiC1qzkkit8=', 'lv': 39979275, 'snd': '4MDVXHXTQIR7SXGGF62DPXUXSOLUEAFY75F6MHX35GV2X5NKIE2H53VISY', 'type': 'acfg'}}}\n"
     ]
    }
   ],
   "source": [
    "print(txinfo)"
   ]
  },
  {
   "cell_type": "markdown",
   "metadata": {},
   "source": [
    "Get the asset ID and open in Algoexplorer"
   ]
  },
  {
   "cell_type": "code",
   "execution_count": 72,
   "metadata": {},
   "outputs": [],
   "source": [
    "lupoz_index = txinfo['asset-index']"
   ]
  },
  {
   "cell_type": "code",
   "execution_count": 73,
   "metadata": {},
   "outputs": [
    {
     "name": "stdout",
     "output_type": "stream",
     "text": [
      "2039533297\n",
      "https://explorer.perawallet.app/asset/2039533297\n"
     ]
    }
   ],
   "source": [
    "print(lupoz_index)\n",
    "print(cred['explore_main']+'asset/{}'.format(lupoz_index))"
   ]
  },
  {
   "cell_type": "markdown",
   "metadata": {},
   "source": [
    "## The Smart signature\n",
    "\n",
    "We will use pyTeal to implement the logic of the smart signature.\n",
    "\n",
    "Uncomment and install if needed:"
   ]
  },
  {
   "cell_type": "code",
   "execution_count": 74,
   "metadata": {},
   "outputs": [],
   "source": [
    "#!pip3 install pyteal"
   ]
  },
  {
   "cell_type": "code",
   "execution_count": 75,
   "metadata": {},
   "outputs": [],
   "source": [
    "from pyteal import * # type: ignore\n",
    "import datetime\n",
    "import math"
   ]
  },
  {
   "cell_type": "markdown",
   "metadata": {},
   "source": [
    "### Let's define the logic of the smart signature:\n",
    "- the logic concerning the present itself\n",
    "- the logic concerning the opt-in of the signature to Lupoz\n",
    "- the logic concerning security\n",
    "- the logic concerning transaction fees"
   ]
  },
  {
   "cell_type": "markdown",
   "metadata": {},
   "source": [
    "Let's first create a function to generate the correct logic for the present:"
   ]
  },
  {
   "cell_type": "code",
   "execution_count": 98,
   "metadata": {},
   "outputs": [],
   "source": [
    "def present(receiver, day, month, year, amount):\n",
    "    '''\n",
    "    Create a smart signature to allow Bravo to redeem a present\n",
    "\n",
    "    Args:\n",
    "    receiver (str): The public address of the receiver (Bravo)\n",
    "    year (int): The year in which you want to do the present\n",
    "    amount (float): The amount of Algo to be sent\n",
    "\n",
    "    Returns:\n",
    "    A PyTeal expression that checks the conditions for the present to be redeemed.\n",
    "    '''\n",
    "\n",
    "    # Define the birthday date in Unix timestamp\n",
    "    present =  math.floor(datetime.datetime(year, month, day).timestamp())\n",
    "    \n",
    "    receiver_pyteal = Addr(receiver)\n",
    "\n",
    "    # Define the amount of Algo to be sent (converted to microAlgos)\n",
    "    microlupoz_int = math.floor(amount*1e6)\n",
    "    microlupoz = Int(microlupoz_int)\n",
    "\n",
    "    # This next part roughly calculates the block number corresponding to the specified date. \n",
    "    # You cannot use the date directly in a smart signature, so we had to resort to this workaround. \n",
    "    \n",
    "    # Define the timestamp of the genesis block\n",
    "    ALGOD_GENESIS_TIMESTAMP = 1560902400\n",
    "    # Calculate the number of seconds since the genesis block\n",
    "    seconds_since_genesis = present - ALGOD_GENESIS_TIMESTAMP\n",
    "    # This is the average time between blocks in seconds\n",
    "    ALGOD_BLOCK_INTERVAL = 4.5\n",
    "    # Calculate the corresponding Algorand round\n",
    "    round_number = int(seconds_since_genesis / ALGOD_BLOCK_INTERVAL)\n",
    "\n",
    "    return And(\n",
    "        Txn.type_enum() == TxnType.AssetTransfer,                 # <-- Verify this is a payment transaction\n",
    "        Txn.asset_receiver() == receiver_pyteal,            # <-- Verify that the receiver is Bravo \n",
    "        Txn.xfer_asset() == Int(lupoz_index),               # <-- Check that the coin has index equal to the index of the coin we created\n",
    "        Int(round_number) <= Int(present),                  # <-- Bravo can redeem the present only from the specified date onwards \n",
    "        Txn.amount() <= microlupoz                          # <-- The amount must be exactly the specified amount\n",
    "        )"
   ]
  },
  {
   "cell_type": "markdown",
   "metadata": {},
   "source": [
    "Now let's use that function to implement our specific case"
   ]
  },
  {
   "cell_type": "code",
   "execution_count": 99,
   "metadata": {},
   "outputs": [],
   "source": [
    "receiver = cred['Bravo']['public']\n",
    "day = 25\n",
    "month = 5\n",
    "year = 2024\n",
    "amount = 10\n",
    "\n",
    "# define the logic of the present itself\n",
    "present_logic = present(receiver, day, month, year, amount)\n"
   ]
  },
  {
   "cell_type": "markdown",
   "metadata": {},
   "source": [
    "Now the other logic needed"
   ]
  },
  {
   "cell_type": "code",
   "execution_count": 100,
   "metadata": {},
   "outputs": [],
   "source": [
    "security_logic = And(\n",
    "    Txn.close_remainder_to() == Global.zero_address(),  # <-- Closer attack!\n",
    "    Txn.rekey_to() == Global.zero_address(),            # <-- Rekeying attack!\n",
    "    )\n",
    "\n",
    "fee_logic = And(\n",
    "    Txn.fee() <= Int(1000)                              # <-- Fee must not be over 1000 microAlgos\n",
    "    )\n",
    "\n",
    "\n",
    "opt_in_logic = And(\n",
    "    Txn.asset_receiver() == Txn.sender(),                  # <-- The receiver of the coin must be the sender\n",
    "    Txn.xfer_asset() == Int(lupoz_index))                  # <-- The coin must have the index of the coin we created\n"
   ]
  },
  {
   "cell_type": "markdown",
   "metadata": {},
   "source": [
    "Let's put them together to get the final logic of the smart signature we are creating"
   ]
  },
  {
   "cell_type": "code",
   "execution_count": 101,
   "metadata": {},
   "outputs": [],
   "source": [
    "full_logic = And(\n",
    "    security_logic,\n",
    "    fee_logic,\n",
    "    Or(\n",
    "    opt_in_logic, \n",
    "    present_logic\n",
    "    )\n",
    ")"
   ]
  },
  {
   "cell_type": "markdown",
   "metadata": {},
   "source": [
    "Compile the PyTeal program to TEAL"
   ]
  },
  {
   "cell_type": "code",
   "execution_count": 102,
   "metadata": {},
   "outputs": [],
   "source": [
    "\n",
    "#The if __name__ == \"__main__\": construct is a common idiom in Python that allows you to run code only when the script is executed directly, and not when it is imported as a module in another script\n",
    "if __name__ == \"__main__\":\n",
    "\n",
    "    \n",
    "    compiled_teal = compileTeal(full_logic, mode=Mode.Signature, version=2)"
   ]
  },
  {
   "cell_type": "markdown",
   "metadata": {},
   "source": [
    "Submit the signature to the Algorand blockchain"
   ]
  },
  {
   "cell_type": "code",
   "execution_count": 103,
   "metadata": {},
   "outputs": [],
   "source": [
    "\n",
    "present_sig = algod_client.compile(compiled_teal)"
   ]
  },
  {
   "cell_type": "markdown",
   "metadata": {},
   "source": [
    "Let's import some other modules that will be needed in this next section"
   ]
  },
  {
   "cell_type": "code",
   "execution_count": 104,
   "metadata": {},
   "outputs": [],
   "source": [
    "from algosdk import account, mnemonic\n",
    "from algosdk.v2client import algod\n",
    "from algosdk import transaction\n",
    "from algosdk.transaction import PaymentTxn\n",
    "from algosdk.transaction import AssetConfigTxn, AssetTransferTxn, AssetFreezeTxn\n",
    "from algosdk.transaction import LogicSig, LogicSigTransaction\n",
    "\n",
    "import algosdk.error\n",
    "import json\n",
    "import base64\n",
    "import hashlib"
   ]
  },
  {
   "cell_type": "markdown",
   "metadata": {},
   "source": [
    "## The transactions to set every account up correctly\n",
    "We need to fund each account involved with some Algos and Lupoz, in order to smoothly complete the transactions for the gift.\n",
    "\n",
    "Each account needs to pay 1000 microAlgos of fee to opt-in to Lupoz, and to send Lupoz to the smart signature. Note that the smart signature itself must also opt-in, so we need to fund it accordingly. There are minimum requirements concerning Algos for each account; our transactions take that into account.\n",
    "\n",
    "In our case, Alfa and Charlie are together making the present, providing 5 Lupoz each. Bravo will be able to redeem the 10 Lupoz present after the specified date."
   ]
  },
  {
   "cell_type": "markdown",
   "metadata": {},
   "source": [
    "**1) MyAlgo funds Alfa and Charlie with 5000 microAlgos**"
   ]
  },
  {
   "cell_type": "code",
   "execution_count": 105,
   "metadata": {},
   "outputs": [
    {
     "name": "stdout",
     "output_type": "stream",
     "text": [
      "Current round is  39978355.\n",
      "Waiting for round 39978355 to finish.\n",
      "Waiting for round 39978356 to finish.\n",
      "Transaction OYH53RXIHK4AAVJXBMWH2I3JLNIP574EESRZIT2QYKV6AFKVVYGQ confirmed in round 39978357.\n"
     ]
    }
   ],
   "source": [
    "# MyAlgo funds Alfa\n",
    "\n",
    "# Step 1: prepare and create TX\n",
    "sp = algod_client.suggested_params()             # Suggested params\n",
    "amt = int(500000)                                     # <-- Send 5000 microAlgos\n",
    "\n",
    "txn = transaction.PaymentTxn(\n",
    "    sender=MyAlgo['public'],\n",
    "    sp=sp,\n",
    "    receiver=Alfa['public'],\n",
    "    amt=amt\n",
    "    )                \n",
    "\n",
    "# Step 2+3: sign + send\n",
    "signed_txn = txn.sign(MyAlgo['private'])\n",
    "txid = algod_client.send_transaction(signed_txn)\n",
    "    \n",
    "# Step 4: Wait for confirmation\n",
    "txinfo = wait_for_confirmation(algod_client,txid)"
   ]
  },
  {
   "cell_type": "code",
   "execution_count": 106,
   "metadata": {},
   "outputs": [
    {
     "ename": "AlgodHTTPError",
     "evalue": "TransactionPool.Remember: transaction EZYDCUY7RAKNJEPI3GDYWMK3D26KFGKY73Y7ICOXSUZRCK7D6KSA: account 4MDVXHXTQIR7SXGGF62DPXUXSOLUEAFY75F6MHX35GV2X5NKIE2H53VISY balance 229000 below min 400000 (3 assets)",
     "output_type": "error",
     "traceback": [
      "\u001b[1;31m---------------------------------------------------------------------------\u001b[0m",
      "\u001b[1;31mHTTPError\u001b[0m                                 Traceback (most recent call last)",
      "File \u001b[1;32mc:\\Users\\nicol\\anaconda3\\Lib\\site-packages\\algosdk\\v2client\\algod.py:104\u001b[0m, in \u001b[0;36mAlgodClient.algod_request\u001b[1;34m(self, method, requrl, params, data, headers, response_format)\u001b[0m\n\u001b[0;32m    103\u001b[0m \u001b[38;5;28;01mtry\u001b[39;00m:\n\u001b[1;32m--> 104\u001b[0m     resp \u001b[38;5;241m=\u001b[39m \u001b[43murlopen\u001b[49m\u001b[43m(\u001b[49m\u001b[43mreq\u001b[49m\u001b[43m)\u001b[49m\n\u001b[0;32m    105\u001b[0m \u001b[38;5;28;01mexcept\u001b[39;00m urllib\u001b[38;5;241m.\u001b[39merror\u001b[38;5;241m.\u001b[39mHTTPError \u001b[38;5;28;01mas\u001b[39;00m e:\n",
      "File \u001b[1;32mc:\\Users\\nicol\\anaconda3\\Lib\\urllib\\request.py:216\u001b[0m, in \u001b[0;36murlopen\u001b[1;34m(url, data, timeout, cafile, capath, cadefault, context)\u001b[0m\n\u001b[0;32m    215\u001b[0m     opener \u001b[38;5;241m=\u001b[39m _opener\n\u001b[1;32m--> 216\u001b[0m \u001b[38;5;28;01mreturn\u001b[39;00m \u001b[43mopener\u001b[49m\u001b[38;5;241;43m.\u001b[39;49m\u001b[43mopen\u001b[49m\u001b[43m(\u001b[49m\u001b[43murl\u001b[49m\u001b[43m,\u001b[49m\u001b[43m \u001b[49m\u001b[43mdata\u001b[49m\u001b[43m,\u001b[49m\u001b[43m \u001b[49m\u001b[43mtimeout\u001b[49m\u001b[43m)\u001b[49m\n",
      "File \u001b[1;32mc:\\Users\\nicol\\anaconda3\\Lib\\urllib\\request.py:525\u001b[0m, in \u001b[0;36mOpenerDirector.open\u001b[1;34m(self, fullurl, data, timeout)\u001b[0m\n\u001b[0;32m    524\u001b[0m     meth \u001b[38;5;241m=\u001b[39m \u001b[38;5;28mgetattr\u001b[39m(processor, meth_name)\n\u001b[1;32m--> 525\u001b[0m     response \u001b[38;5;241m=\u001b[39m \u001b[43mmeth\u001b[49m\u001b[43m(\u001b[49m\u001b[43mreq\u001b[49m\u001b[43m,\u001b[49m\u001b[43m \u001b[49m\u001b[43mresponse\u001b[49m\u001b[43m)\u001b[49m\n\u001b[0;32m    527\u001b[0m \u001b[38;5;28;01mreturn\u001b[39;00m response\n",
      "File \u001b[1;32mc:\\Users\\nicol\\anaconda3\\Lib\\urllib\\request.py:634\u001b[0m, in \u001b[0;36mHTTPErrorProcessor.http_response\u001b[1;34m(self, request, response)\u001b[0m\n\u001b[0;32m    633\u001b[0m \u001b[38;5;28;01mif\u001b[39;00m \u001b[38;5;129;01mnot\u001b[39;00m (\u001b[38;5;241m200\u001b[39m \u001b[38;5;241m<\u001b[39m\u001b[38;5;241m=\u001b[39m code \u001b[38;5;241m<\u001b[39m \u001b[38;5;241m300\u001b[39m):\n\u001b[1;32m--> 634\u001b[0m     response \u001b[38;5;241m=\u001b[39m \u001b[38;5;28;43mself\u001b[39;49m\u001b[38;5;241;43m.\u001b[39;49m\u001b[43mparent\u001b[49m\u001b[38;5;241;43m.\u001b[39;49m\u001b[43merror\u001b[49m\u001b[43m(\u001b[49m\n\u001b[0;32m    635\u001b[0m \u001b[43m        \u001b[49m\u001b[38;5;124;43m'\u001b[39;49m\u001b[38;5;124;43mhttp\u001b[39;49m\u001b[38;5;124;43m'\u001b[39;49m\u001b[43m,\u001b[49m\u001b[43m \u001b[49m\u001b[43mrequest\u001b[49m\u001b[43m,\u001b[49m\u001b[43m \u001b[49m\u001b[43mresponse\u001b[49m\u001b[43m,\u001b[49m\u001b[43m \u001b[49m\u001b[43mcode\u001b[49m\u001b[43m,\u001b[49m\u001b[43m \u001b[49m\u001b[43mmsg\u001b[49m\u001b[43m,\u001b[49m\u001b[43m \u001b[49m\u001b[43mhdrs\u001b[49m\u001b[43m)\u001b[49m\n\u001b[0;32m    637\u001b[0m \u001b[38;5;28;01mreturn\u001b[39;00m response\n",
      "File \u001b[1;32mc:\\Users\\nicol\\anaconda3\\Lib\\urllib\\request.py:563\u001b[0m, in \u001b[0;36mOpenerDirector.error\u001b[1;34m(self, proto, *args)\u001b[0m\n\u001b[0;32m    562\u001b[0m args \u001b[38;5;241m=\u001b[39m (\u001b[38;5;28mdict\u001b[39m, \u001b[38;5;124m'\u001b[39m\u001b[38;5;124mdefault\u001b[39m\u001b[38;5;124m'\u001b[39m, \u001b[38;5;124m'\u001b[39m\u001b[38;5;124mhttp_error_default\u001b[39m\u001b[38;5;124m'\u001b[39m) \u001b[38;5;241m+\u001b[39m orig_args\n\u001b[1;32m--> 563\u001b[0m \u001b[38;5;28;01mreturn\u001b[39;00m \u001b[38;5;28;43mself\u001b[39;49m\u001b[38;5;241;43m.\u001b[39;49m\u001b[43m_call_chain\u001b[49m\u001b[43m(\u001b[49m\u001b[38;5;241;43m*\u001b[39;49m\u001b[43margs\u001b[49m\u001b[43m)\u001b[49m\n",
      "File \u001b[1;32mc:\\Users\\nicol\\anaconda3\\Lib\\urllib\\request.py:496\u001b[0m, in \u001b[0;36mOpenerDirector._call_chain\u001b[1;34m(self, chain, kind, meth_name, *args)\u001b[0m\n\u001b[0;32m    495\u001b[0m func \u001b[38;5;241m=\u001b[39m \u001b[38;5;28mgetattr\u001b[39m(handler, meth_name)\n\u001b[1;32m--> 496\u001b[0m result \u001b[38;5;241m=\u001b[39m \u001b[43mfunc\u001b[49m\u001b[43m(\u001b[49m\u001b[38;5;241;43m*\u001b[39;49m\u001b[43margs\u001b[49m\u001b[43m)\u001b[49m\n\u001b[0;32m    497\u001b[0m \u001b[38;5;28;01mif\u001b[39;00m result \u001b[38;5;129;01mis\u001b[39;00m \u001b[38;5;129;01mnot\u001b[39;00m \u001b[38;5;28;01mNone\u001b[39;00m:\n",
      "File \u001b[1;32mc:\\Users\\nicol\\anaconda3\\Lib\\urllib\\request.py:643\u001b[0m, in \u001b[0;36mHTTPDefaultErrorHandler.http_error_default\u001b[1;34m(self, req, fp, code, msg, hdrs)\u001b[0m\n\u001b[0;32m    642\u001b[0m \u001b[38;5;28;01mdef\u001b[39;00m \u001b[38;5;21mhttp_error_default\u001b[39m(\u001b[38;5;28mself\u001b[39m, req, fp, code, msg, hdrs):\n\u001b[1;32m--> 643\u001b[0m     \u001b[38;5;28;01mraise\u001b[39;00m HTTPError(req\u001b[38;5;241m.\u001b[39mfull_url, code, msg, hdrs, fp)\n",
      "\u001b[1;31mHTTPError\u001b[0m: HTTP Error 400: Bad Request",
      "\nDuring handling of the above exception, another exception occurred:\n",
      "\u001b[1;31mAlgodHTTPError\u001b[0m                            Traceback (most recent call last)",
      "Cell \u001b[1;32mIn[106], line 16\u001b[0m\n\u001b[0;32m     14\u001b[0m \u001b[38;5;66;03m# Step 2+3: sign + send\u001b[39;00m\n\u001b[0;32m     15\u001b[0m signed_txn \u001b[38;5;241m=\u001b[39m txn\u001b[38;5;241m.\u001b[39msign(MyAlgo[\u001b[38;5;124m'\u001b[39m\u001b[38;5;124mprivate\u001b[39m\u001b[38;5;124m'\u001b[39m])\n\u001b[1;32m---> 16\u001b[0m txid \u001b[38;5;241m=\u001b[39m \u001b[43malgod_client\u001b[49m\u001b[38;5;241;43m.\u001b[39;49m\u001b[43msend_transaction\u001b[49m\u001b[43m(\u001b[49m\u001b[43msigned_txn\u001b[49m\u001b[43m)\u001b[49m\n\u001b[0;32m     18\u001b[0m \u001b[38;5;66;03m# Step 4: Wait for confirmation\u001b[39;00m\n\u001b[0;32m     19\u001b[0m txinfo \u001b[38;5;241m=\u001b[39m wait_for_confirmation(algod_client,txid)\n",
      "File \u001b[1;32mc:\\Users\\nicol\\anaconda3\\Lib\\site-packages\\algosdk\\v2client\\algod.py:331\u001b[0m, in \u001b[0;36mAlgodClient.send_transaction\u001b[1;34m(self, txn, **kwargs)\u001b[0m\n\u001b[0;32m    318\u001b[0m \u001b[38;5;250m\u001b[39m\u001b[38;5;124;03m\"\"\"\u001b[39;00m\n\u001b[0;32m    319\u001b[0m \u001b[38;5;124;03mBroadcast a signed transaction object to the network.\u001b[39;00m\n\u001b[0;32m    320\u001b[0m \n\u001b[1;32m   (...)\u001b[0m\n\u001b[0;32m    326\u001b[0m \u001b[38;5;124;03m    str: transaction ID\u001b[39;00m\n\u001b[0;32m    327\u001b[0m \u001b[38;5;124;03m\"\"\"\u001b[39;00m\n\u001b[0;32m    328\u001b[0m \u001b[38;5;28;01massert\u001b[39;00m \u001b[38;5;129;01mnot\u001b[39;00m \u001b[38;5;28misinstance\u001b[39m(\n\u001b[0;32m    329\u001b[0m     txn, transaction\u001b[38;5;241m.\u001b[39mTransaction\n\u001b[0;32m    330\u001b[0m ), \u001b[38;5;124m\"\u001b[39m\u001b[38;5;124mAttempt to send UNSUPPORTED type of transaction \u001b[39m\u001b[38;5;132;01m{}\u001b[39;00m\u001b[38;5;124m\"\u001b[39m\u001b[38;5;241m.\u001b[39mformat(txn)\n\u001b[1;32m--> 331\u001b[0m \u001b[38;5;28;01mreturn\u001b[39;00m \u001b[38;5;28;43mself\u001b[39;49m\u001b[38;5;241;43m.\u001b[39;49m\u001b[43msend_raw_transaction\u001b[49m\u001b[43m(\u001b[49m\n\u001b[0;32m    332\u001b[0m \u001b[43m    \u001b[49m\u001b[43mencoding\u001b[49m\u001b[38;5;241;43m.\u001b[39;49m\u001b[43mmsgpack_encode\u001b[49m\u001b[43m(\u001b[49m\u001b[43mtxn\u001b[49m\u001b[43m)\u001b[49m\u001b[43m,\u001b[49m\u001b[43m \u001b[49m\u001b[38;5;241;43m*\u001b[39;49m\u001b[38;5;241;43m*\u001b[39;49m\u001b[43mkwargs\u001b[49m\n\u001b[0;32m    333\u001b[0m \u001b[43m\u001b[49m\u001b[43m)\u001b[49m\n",
      "File \u001b[1;32mc:\\Users\\nicol\\anaconda3\\Lib\\site-packages\\algosdk\\v2client\\algod.py:358\u001b[0m, in \u001b[0;36mAlgodClient.send_raw_transaction\u001b[1;34m(self, txn, **kwargs)\u001b[0m\n\u001b[0;32m    352\u001b[0m headers \u001b[38;5;241m=\u001b[39m util\u001b[38;5;241m.\u001b[39mbuild_headers_from(\n\u001b[0;32m    353\u001b[0m     kwargs\u001b[38;5;241m.\u001b[39mget(\u001b[38;5;124m\"\u001b[39m\u001b[38;5;124mheaders\u001b[39m\u001b[38;5;124m\"\u001b[39m, \u001b[38;5;28;01mFalse\u001b[39;00m),\n\u001b[0;32m    354\u001b[0m     {\u001b[38;5;124m\"\u001b[39m\u001b[38;5;124mContent-Type\u001b[39m\u001b[38;5;124m\"\u001b[39m: \u001b[38;5;124m\"\u001b[39m\u001b[38;5;124mapplication/x-binary\u001b[39m\u001b[38;5;124m\"\u001b[39m},\n\u001b[0;32m    355\u001b[0m )\n\u001b[0;32m    356\u001b[0m kwargs[\u001b[38;5;124m\"\u001b[39m\u001b[38;5;124mheaders\u001b[39m\u001b[38;5;124m\"\u001b[39m] \u001b[38;5;241m=\u001b[39m headers\n\u001b[1;32m--> 358\u001b[0m resp \u001b[38;5;241m=\u001b[39m \u001b[38;5;28;43mself\u001b[39;49m\u001b[38;5;241;43m.\u001b[39;49m\u001b[43malgod_request\u001b[49m\u001b[43m(\u001b[49m\u001b[38;5;124;43m\"\u001b[39;49m\u001b[38;5;124;43mPOST\u001b[39;49m\u001b[38;5;124;43m\"\u001b[39;49m\u001b[43m,\u001b[49m\u001b[43m \u001b[49m\u001b[43mreq\u001b[49m\u001b[43m,\u001b[49m\u001b[43m \u001b[49m\u001b[43mdata\u001b[49m\u001b[38;5;241;43m=\u001b[39;49m\u001b[43mtxn_bytes\u001b[49m\u001b[43m,\u001b[49m\u001b[43m \u001b[49m\u001b[38;5;241;43m*\u001b[39;49m\u001b[38;5;241;43m*\u001b[39;49m\u001b[43mkwargs\u001b[49m\u001b[43m)\u001b[49m\n\u001b[0;32m    359\u001b[0m \u001b[38;5;28;01mreturn\u001b[39;00m cast(\u001b[38;5;28mstr\u001b[39m, cast(\u001b[38;5;28mdict\u001b[39m, resp)[\u001b[38;5;124m\"\u001b[39m\u001b[38;5;124mtxId\u001b[39m\u001b[38;5;124m\"\u001b[39m])\n",
      "File \u001b[1;32mc:\\Users\\nicol\\anaconda3\\Lib\\site-packages\\algosdk\\v2client\\algod.py:111\u001b[0m, in \u001b[0;36mAlgodClient.algod_request\u001b[1;34m(self, method, requrl, params, data, headers, response_format)\u001b[0m\n\u001b[0;32m    109\u001b[0m         e \u001b[38;5;241m=\u001b[39m json\u001b[38;5;241m.\u001b[39mloads(es)[\u001b[38;5;124m\"\u001b[39m\u001b[38;5;124mmessage\u001b[39m\u001b[38;5;124m\"\u001b[39m]\n\u001b[0;32m    110\u001b[0m     \u001b[38;5;28;01mfinally\u001b[39;00m:\n\u001b[1;32m--> 111\u001b[0m         \u001b[38;5;28;01mraise\u001b[39;00m error\u001b[38;5;241m.\u001b[39mAlgodHTTPError(e, code)\n\u001b[0;32m    112\u001b[0m \u001b[38;5;28;01mif\u001b[39;00m response_format \u001b[38;5;241m==\u001b[39m \u001b[38;5;124m\"\u001b[39m\u001b[38;5;124mjson\u001b[39m\u001b[38;5;124m\"\u001b[39m:\n\u001b[0;32m    113\u001b[0m     \u001b[38;5;28;01mtry\u001b[39;00m:\n",
      "\u001b[1;31mAlgodHTTPError\u001b[0m: TransactionPool.Remember: transaction EZYDCUY7RAKNJEPI3GDYWMK3D26KFGKY73Y7ICOXSUZRCK7D6KSA: account 4MDVXHXTQIR7SXGGF62DPXUXSOLUEAFY75F6MHX35GV2X5NKIE2H53VISY balance 229000 below min 400000 (3 assets)"
     ]
    }
   ],
   "source": [
    "# MyAlgo funds Charlie\n",
    "\n",
    "# Step 1: prepare and create TX\n",
    "sp = algod_client.suggested_params()             # Suggested params\n",
    "amt = int(500000)                                     # <-- Send 5000 microAlgos\n",
    "\n",
    "txn = transaction.PaymentTxn(\n",
    "    sender=MyAlgo['public'],\n",
    "    sp=sp,\n",
    "    receiver=Charlie['public'],\n",
    "    amt=amt\n",
    "    )                \n",
    "\n",
    "# Step 2+3: sign + send\n",
    "signed_txn = txn.sign(MyAlgo['private'])\n",
    "txid = algod_client.send_transaction(signed_txn)\n",
    "    \n",
    "# Step 4: Wait for confirmation\n",
    "txinfo = wait_for_confirmation(algod_client,txid)"
   ]
  },
  {
   "cell_type": "markdown",
   "metadata": {},
   "source": [
    "**2) Alfa and Charlie opt-in to Lupoz**"
   ]
  },
  {
   "cell_type": "code",
   "execution_count": 107,
   "metadata": {},
   "outputs": [
    {
     "name": "stdout",
     "output_type": "stream",
     "text": [
      "Current round is  39978395.\n",
      "Waiting for round 39978395 to finish.\n",
      "Transaction WAOBGJN44WD4RS3FMQHB56VIDLAAQLBGBPTZCTUDZOMHOBTSCFMQ confirmed in round 39978396.\n"
     ]
    }
   ],
   "source": [
    "# Opt-in for Alfa\n",
    "\n",
    "# Step 1: prepare and create TX\n",
    "sp = algod_client.suggested_params()             # Suggested params\n",
    "optin_amt = int(0)                                     # <-- Send 0 token\n",
    "\n",
    "txn = AssetTransferTxn(\n",
    "    sender=Alfa['public'],\n",
    "    sp=sp,\n",
    "    receiver=Alfa['public'],\n",
    "    amt=optin_amt,\n",
    "    index=lupoz_index\n",
    "    )                \n",
    "\n",
    "# Step 2+3: sign + send\n",
    "signed_txn = txn.sign(Alfa['private'])\n",
    "txid = algod_client.send_transaction(signed_txn)\n",
    "    \n",
    "# Step 4: Wait for confirmation\n",
    "txinfo = wait_for_confirmation(algod_client,txid)"
   ]
  },
  {
   "cell_type": "code",
   "execution_count": 108,
   "metadata": {},
   "outputs": [
    {
     "name": "stdout",
     "output_type": "stream",
     "text": [
      "Current round is  39978396.\n",
      "Waiting for round 39978396 to finish.\n",
      "Waiting for round 39978397 to finish.\n",
      "Transaction EXQAF7V7QMOOHOPIS443EAT3HRNXVWJPO2M6HWFUUAEB5OXL3KPA confirmed in round 39978398.\n"
     ]
    }
   ],
   "source": [
    "# Opt-in for Charlie\n",
    "\n",
    "# Step 1: prepare and create TX\n",
    "sp = algod_client.suggested_params()             # Suggested params\n",
    "optin_amt = int(0)                                     # <-- Send 0 token\n",
    "\n",
    "txn = AssetTransferTxn(\n",
    "    sender=Charlie['public'],\n",
    "    sp=sp,\n",
    "    receiver=Charlie['public'],\n",
    "    amt=optin_amt,\n",
    "    index=lupoz_index\n",
    "    )                \n",
    "\n",
    "# Step 2+3: sign + send\n",
    "signed_txn = txn.sign(Charlie['private'])\n",
    "txid = algod_client.send_transaction(signed_txn)\n",
    "    \n",
    "# Step 4: Wait for confirmation\n",
    "txinfo = wait_for_confirmation(algod_client,txid)"
   ]
  },
  {
   "cell_type": "markdown",
   "metadata": {},
   "source": [
    "**3) MyAlgo funds Alfa and Charlie with appropiate amount of Lupoz**"
   ]
  },
  {
   "cell_type": "code",
   "execution_count": 109,
   "metadata": {},
   "outputs": [
    {
     "name": "stdout",
     "output_type": "stream",
     "text": [
      "Current round is  39978399.\n",
      "Waiting for round 39978399 to finish.\n",
      "Waiting for round 39978400 to finish.\n",
      "Transaction 5CWXEJUGBFJ7IVKB4YLVATCC7B6ZUAZPN7IWTDFXPND4HGYU3UXQ confirmed in round 39978401.\n"
     ]
    }
   ],
   "source": [
    "# MyAlgo funds Alfa with 5 lupoz tokens\n",
    "\n",
    "# Step 1: prepare and create TX\n",
    "sp = algod_client.suggested_params()             # Suggested params\n",
    "amt = int(5*1e6)                                     # <-- Send 5 token\n",
    "\n",
    "txn = AssetTransferTxn(\n",
    "    sender=MyAlgo['public'],\n",
    "    sp=sp,\n",
    "    receiver=Alfa['public'],\n",
    "    amt=amt,\n",
    "    index=lupoz_index\n",
    "    )                \n",
    "\n",
    "# Step 2+3: sign + send\n",
    "signed_txn = txn.sign(MyAlgo['private'])\n",
    "txid = algod_client.send_transaction(signed_txn)\n",
    "    \n",
    "# Step 4: Wait for confirmation\n",
    "txinfo = wait_for_confirmation(algod_client,txid)"
   ]
  },
  {
   "cell_type": "code",
   "execution_count": 110,
   "metadata": {},
   "outputs": [
    {
     "name": "stdout",
     "output_type": "stream",
     "text": [
      "Current round is  39978402.\n",
      "Waiting for round 39978402 to finish.\n",
      "Waiting for round 39978403 to finish.\n",
      "Transaction FKJWE2DOLT4DW7DX2ZH3INVWQGRA5TQTIJYG76IN7OYCECYRRNPA confirmed in round 39978404.\n"
     ]
    }
   ],
   "source": [
    "# MyAlgo funds Charlie with 5 lupoz tokens\n",
    "\n",
    "# Step 1: prepare and create TX\n",
    "sp = algod_client.suggested_params()             # Suggested params\n",
    "amt = int(5*1e6)                                     # <-- Send 5 token\n",
    "\n",
    "txn = AssetTransferTxn(\n",
    "    sender=MyAlgo['public'],\n",
    "    sp=sp,\n",
    "    receiver=Charlie['public'],\n",
    "    amt=amt,\n",
    "    index=lupoz_index\n",
    "    )                \n",
    "\n",
    "# Step 2+3: sign + send\n",
    "signed_txn = txn.sign(MyAlgo['private'])\n",
    "txid = algod_client.send_transaction(signed_txn)\n",
    "    \n",
    "# Step 4: Wait for confirmation\n",
    "txinfo = wait_for_confirmation(algod_client,txid)"
   ]
  },
  {
   "cell_type": "markdown",
   "metadata": {},
   "source": [
    "**4) MyAlgo funds Bravo to pay for the opt-in & for the transaction fees when he redeems the present**"
   ]
  },
  {
   "cell_type": "code",
   "execution_count": 111,
   "metadata": {},
   "outputs": [
    {
     "name": "stdout",
     "output_type": "stream",
     "text": [
      "Current round is  39978409.\n",
      "Waiting for round 39978409 to finish.\n",
      "Waiting for round 39978410 to finish.\n",
      "Transaction QW23XV5HX6TKYEHDCOSVPEG5EYWHI2GZABVPFOEBZUMUGRZJDQFA confirmed in round 39978411.\n"
     ]
    }
   ],
   "source": [
    "# MyAlgo funds Bravo\n",
    "# Step 1: prepare and create TX\n",
    "sp = algod_client.suggested_params()             # Suggested params\n",
    "amt = int(250000)                                     # <-- Send 2500 microAlgos\n",
    "\n",
    "txn = transaction.PaymentTxn(\n",
    "    sender=MyAlgo['public'],\n",
    "    sp=sp,\n",
    "    receiver=Bravo['public'],\n",
    "    amt=amt\n",
    "    )                \n",
    "\n",
    "# Step 2+3: sign + send\n",
    "signed_txn = txn.sign(MyAlgo['private'])\n",
    "txid = algod_client.send_transaction(signed_txn)\n",
    "    \n",
    "# Step 4: Wait for confirmation\n",
    "txinfo = wait_for_confirmation(algod_client,txid)"
   ]
  },
  {
   "cell_type": "markdown",
   "metadata": {},
   "source": [
    "**5) Bravo opts-in to Lupoz**"
   ]
  },
  {
   "cell_type": "code",
   "execution_count": 112,
   "metadata": {},
   "outputs": [
    {
     "name": "stdout",
     "output_type": "stream",
     "text": [
      "Current round is  39978414.\n",
      "Waiting for round 39978414 to finish.\n",
      "Transaction N7FV2PVRIAQTBAILNXUTV4QLIR4B7URAQUDPIL3RRWIZFQWNIZGA confirmed in round 39978415.\n"
     ]
    }
   ],
   "source": [
    "# Opt-in for Bravo\n",
    "\n",
    "# Step 1: prepare and create TX\n",
    "sp = algod_client.suggested_params()             # Suggested params\n",
    "optin_amt = int(0)                                     # <-- Send 0 token\n",
    "\n",
    "txn = AssetTransferTxn(\n",
    "    sender=Bravo['public'],\n",
    "    sp=sp,\n",
    "    receiver=Bravo['public'],\n",
    "    amt=optin_amt,\n",
    "    index=lupoz_index\n",
    "    )                \n",
    "\n",
    "# Step 2+3: sign + send\n",
    "signed_txn = txn.sign(Bravo['private'])\n",
    "txid = algod_client.send_transaction(signed_txn)\n",
    "    \n",
    "# Step 4: Wait for confirmation\n",
    "txinfo = wait_for_confirmation(algod_client,txid)"
   ]
  },
  {
   "cell_type": "markdown",
   "metadata": {},
   "source": [
    "## The actual smart signature transaction"
   ]
  },
  {
   "cell_type": "markdown",
   "metadata": {},
   "source": [
    "As mentioned before, the signature must also pay fees to opt-in to Lupoz.\n",
    "\n",
    "**1) Alfa funds the smart signature**"
   ]
  },
  {
   "cell_type": "code",
   "execution_count": 113,
   "metadata": {},
   "outputs": [
    {
     "name": "stdout",
     "output_type": "stream",
     "text": [
      "Current round is  39978415.\n",
      "Waiting for round 39978415 to finish.\n",
      "Waiting for round 39978416 to finish.\n",
      "Transaction DQILLLU3NOHVNNI2HNXQLLH5UHWRIUKPHW3TZJVIDXGHY6AQYCPQ confirmed in round 39978417.\n"
     ]
    }
   ],
   "source": [
    "#Alfa funds the smart signature \n",
    "\n",
    "# Step 1: prepare transaction\n",
    "sp = algod_client.suggested_params()\n",
    "amt = int(250000)\n",
    "txn = transaction.PaymentTxn(sender=Alfa['public'], sp=sp, receiver=present_sig['hash'], amt=amt)\n",
    "\n",
    "# Step 2+3: sign and send\n",
    "stxn = txn.sign(Alfa['private'])\n",
    "txid = algod_client.send_transaction(stxn)\n",
    "\n",
    "# Step 4: wait for confirmation\n",
    "txinfo = wait_for_confirmation(algod_client, txid)"
   ]
  },
  {
   "cell_type": "markdown",
   "metadata": {},
   "source": [
    "**2) The signature opts-in**"
   ]
  },
  {
   "cell_type": "code",
   "execution_count": 114,
   "metadata": {},
   "outputs": [
    {
     "name": "stdout",
     "output_type": "stream",
     "text": [
      "Current round is  39978417.\n",
      "Waiting for round 39978417 to finish.\n",
      "Waiting for round 39978418 to finish.\n",
      "Transaction NQIH7DSUU4UIR5B5CQVRCZB7UGJ7KVC544XXR77WL5JNZXTPSUCQ confirmed in round 39978419.\n"
     ]
    }
   ],
   "source": [
    "\n",
    "# Step 5.1: Prepare\n",
    "sp = algod_client.suggested_params()\n",
    "txn = AssetTransferTxn(present_sig['hash'], sp, present_sig['hash'], 0, lupoz_index)\n",
    "\n",
    "# Step 5.2: Sign\n",
    "encodedProg = present_sig['result'].encode()\n",
    "program = base64.decodebytes(encodedProg)\n",
    "lsig = LogicSig(program)\n",
    "stxn = LogicSigTransaction(txn, lsig)\n",
    "\n",
    "# Step 5.3 Send\n",
    "txid = algod_client.send_transaction(stxn)\n",
    "\n",
    "# Step 5.4 Wait for ...\n",
    "txinfo = wait_for_confirmation(algod_client, txid)"
   ]
  },
  {
   "cell_type": "markdown",
   "metadata": {},
   "source": [
    "**3) Alfa and Charlie fund the signature for the present**"
   ]
  },
  {
   "cell_type": "code",
   "execution_count": 115,
   "metadata": {},
   "outputs": [
    {
     "name": "stdout",
     "output_type": "stream",
     "text": [
      "Current round is  39978419.\n",
      "Waiting for round 39978419 to finish.\n",
      "Waiting for round 39978420 to finish.\n",
      "Transaction PAOA562B6USDKRGZFHMAUSKS2BOVE4VQDMWWU7Q2L3TNVUCOXTTQ confirmed in round 39978421.\n"
     ]
    }
   ],
   "source": [
    "# Alfa funds the signature\n",
    "\n",
    "# Step 1: prepare transaction\n",
    "sp = algod_client.suggested_params()\n",
    "amt = int(5*1e6)\n",
    "txn = AssetTransferTxn(sender=Alfa['public'], sp=sp, receiver=present_sig['hash'], amt=amt, index=lupoz_index)\n",
    "\n",
    "# Step 2+3: sign and send\n",
    "stxn = txn.sign(Alfa['private'])\n",
    "txid = algod_client.send_transaction(stxn)\n",
    "\n",
    "# Step 4: wait for confirmation\n",
    "txinfo = wait_for_confirmation(algod_client, txid)"
   ]
  },
  {
   "cell_type": "code",
   "execution_count": 116,
   "metadata": {},
   "outputs": [
    {
     "name": "stdout",
     "output_type": "stream",
     "text": [
      "Current round is  39978421.\n",
      "Waiting for round 39978421 to finish.\n",
      "Waiting for round 39978422 to finish.\n",
      "Transaction AZJ5XK4DH4UTORUO4RYBO4LXBJ244XFHD73YRQ2VFPN7E73POQAQ confirmed in round 39978423.\n"
     ]
    }
   ],
   "source": [
    "# Charlie funds the signature\n",
    "\n",
    "# Step 1: prepare transaction\n",
    "sp = algod_client.suggested_params()\n",
    "amt = int(5*1e6)\n",
    "txn = AssetTransferTxn(sender=Charlie['public'], sp=sp, receiver=present_sig['hash'], amt=amt, index=lupoz_index)\n",
    "\n",
    "# Step 2+3: sign and send\n",
    "stxn = txn.sign(Charlie['private'])\n",
    "txid = algod_client.send_transaction(stxn)\n",
    "\n",
    "# Step 4: wait for confirmation\n",
    "txinfo = wait_for_confirmation(algod_client, txid)"
   ]
  },
  {
   "cell_type": "markdown",
   "metadata": {},
   "source": [
    "**4) Finally, Bravo redeems the present**"
   ]
  },
  {
   "cell_type": "code",
   "execution_count": 117,
   "metadata": {},
   "outputs": [
    {
     "name": "stdout",
     "output_type": "stream",
     "text": [
      "Current round is  39978423.\n",
      "Waiting for round 39978423 to finish.\n",
      "Waiting for round 39978424 to finish.\n",
      "Transaction LA5I5UGAYM6ZGR3FR7Z3WVVCRFDI4IJEAALVWYI2BZ6QE3DHJBFQ confirmed in round 39978425.\n"
     ]
    }
   ],
   "source": [
    "#Bravo redeems the present from the Smart Signature\n",
    "# Step 1: prepare transaction\n",
    "sp = algod_client.suggested_params()\n",
    "amt = int(10*1e6)\n",
    "txn = AssetTransferTxn(sender=present_sig['hash'], sp=sp, receiver=Bravo['public'], amt=amt, index=lupoz_index)\n",
    "\n",
    "# Step 2: sign TX\n",
    "encodedProg = present_sig['result'].encode()\n",
    "program = base64.decodebytes(encodedProg)\n",
    "lsig = LogicSig(program)\n",
    "stxn = LogicSigTransaction(txn, lsig)\n",
    "\n",
    "# Step 3: send\n",
    "txid = algod_client.send_transaction(stxn)\n",
    "\n",
    "# Step4: wait for confirmation\n",
    "txinfo = wait_for_confirmation(algod_client, txid)"
   ]
  },
  {
   "cell_type": "markdown",
   "metadata": {},
   "source": [
    "Now we can check if everything went according to plans"
   ]
  },
  {
   "cell_type": "code",
   "execution_count": null,
   "metadata": {},
   "outputs": [
    {
     "name": "stdout",
     "output_type": "stream",
     "text": [
      "https://explorer.perawallet.app/address/4MDVXHXTQIR7SXGGF62DPXUXSOLUEAFY75F6MHX35GV2X5NKIE2H53VISY\n"
     ]
    }
   ],
   "source": [
    "# MyAlgo \n",
    "print(cred['explore_main']+'address/'+MyAlgo['public'])"
   ]
  },
  {
   "cell_type": "code",
   "execution_count": null,
   "metadata": {},
   "outputs": [
    {
     "name": "stdout",
     "output_type": "stream",
     "text": [
      "https://explorer.perawallet.app/address/B33ZV6UPJZXHBWWM65Y3ZWP4YGB7GLM2PR6WPMH3D6G674DWGDHYJXZIFE\n"
     ]
    }
   ],
   "source": [
    "# Alfa \n",
    "print(cred['explore_main']+'address/'+Alfa['public'])"
   ]
  },
  {
   "cell_type": "code",
   "execution_count": null,
   "metadata": {},
   "outputs": [
    {
     "name": "stdout",
     "output_type": "stream",
     "text": [
      "https://explorer.perawallet.app/address/ZEJV4X7XBW4FB55ZETC5XBJ7OV5IF3ZAX25IQRA7T5J5XM3II76JGAGJ7E\n"
     ]
    }
   ],
   "source": [
    "# Bravo \n",
    "print(cred['explore_main']+'address/'+Bravo['public'])"
   ]
  },
  {
   "cell_type": "code",
   "execution_count": null,
   "metadata": {},
   "outputs": [
    {
     "name": "stdout",
     "output_type": "stream",
     "text": [
      "https://explorer.perawallet.app/address/SDDSAGSVMRK7FM5BFGUA7EHILEK3UQTDUBRJNZBZ3CJ6MDOKT6QB2BEVEY\n"
     ]
    }
   ],
   "source": [
    "# Charlie\n",
    "print(cred['explore_main']+'address/'+Charlie['public'])"
   ]
  }
 ],
 "metadata": {
  "kernelspec": {
   "display_name": "base",
   "language": "python",
   "name": "python3"
  },
  "language_info": {
   "codemirror_mode": {
    "name": "ipython",
    "version": 3
   },
   "file_extension": ".py",
   "mimetype": "text/x-python",
   "name": "python",
   "nbconvert_exporter": "python",
   "pygments_lexer": "ipython3",
   "version": "3.11.5"
  }
 },
 "nbformat": 4,
 "nbformat_minor": 2
}
